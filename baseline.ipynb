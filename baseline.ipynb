{
 "cells": [
  {
   "cell_type": "code",
   "execution_count": null,
   "metadata": {},
   "outputs": [],
   "source": [
    "import argparse\n",
    "import os\n",
    "from pathlib import Path\n",
    "\n",
    "import albumentations as A\n",
    "import pandas as pd\n",
    "import pytorch_lightning as pl\n",
    "import torch\n",
    "from albumentations.pytorch import ToTensorV2\n",
    "from sklearn.metrics import f1_score, precision_score, recall_score\n",
    "from sklearn.model_selection import train_test_split\n",
    "from torch.utils.data import DataLoader\n",
    "\n",
    "from classes import CustomDataset\n",
    "from utils import *"
   ]
  },
  {
   "cell_type": "code",
   "execution_count": null,
   "metadata": {},
   "outputs": [],
   "source": [
    "DATASET_PATHS = Path('celeba')\n",
    "CHECKPOINT_PATH = Path('checkpoints')\n",
    "BATCH_SIZE = 60\n",
    "NUM_WORKERS = int(os.cpu_count() / 2)\n",
    "SEED = 13\n"
   ]
  },
  {
   "cell_type": "code",
   "execution_count": null,
   "metadata": {},
   "outputs": [],
   "source": [
    "train_df = pd.read_csv(DATASET_PATHS / 'train.csv')\n",
    "test_df = pd.read_csv(DATASET_PATHS / 'test.csv')\n",
    "\n",
    "train_data = []\n",
    "test_data = []\n",
    "\n",
    "for x in train_df.itertuples():\n",
    "    train_data.append(x)\n",
    "for x in test_df.itertuples():\n",
    "    test_data.append(x)\n",
    "\n",
    "print(f'Train total len: {len(train_data)}',\n",
    "      f'Test total len: {len(test_data)}', sep='\\n')\n",
    "\n",
    "train, val = train_test_split(train_data, test_size=0.2, random_state=SEED)\n",
    "test = test_data\n",
    "\n",
    "print(f'Train shape: {len(train)}',\n",
    "      f'Validation shape: {len(val)}',\n",
    "      f'Test shape: {len(test)}', sep='\\n')\n",
    "\n",
    "pl.seed_everything(SEED)\n",
    "\n",
    "torch.backends.cudnn.determinstic = True\n",
    "torch.backends.cudnn.benchmark = False\n",
    "\n",
    "os.makedirs(CHECKPOINT_PATH, exist_ok=True)\n",
    "device = torch.device(\n",
    "    \"cuda\") if torch.cuda.is_available() else torch.device(\"cpu\")\n"
   ]
  },
  {
   "cell_type": "code",
   "execution_count": null,
   "metadata": {},
   "outputs": [],
   "source": [
    "train_transform = A.Compose([\n",
    "    A.RandomGamma(),\n",
    "    A.HorizontalFlip(p=0.5),\n",
    "    A.Rotate(always_apply=False, limit=(-10, 10)),\n",
    "    A.RandomBrightnessContrast(p=0.5),\n",
    "    A.Resize(512, 512),\n",
    "    ToTensorV2(),\n",
    "])\n",
    "\n",
    "test_transform = A.Compose([\n",
    "    A.Resize(512, 512),\n",
    "    ToTensorV2(),\n",
    "])\n",
    "\n",
    "train_dataset = CustomDataset(train, train_transform)\n",
    "valid_dataset = CustomDataset(val, test_transform)\n",
    "test_dataset = CustomDataset(test, test_transform)\n",
    "\n",
    "train_loader = DataLoader(train_dataset, shuffle=True, batch_size=BATCH_SIZE,\n",
    "                          drop_last=True, pin_memory=True, num_workers=NUM_WORKERS)\n",
    "valid_loader = DataLoader(valid_dataset, batch_size=BATCH_SIZE,\n",
    "                          drop_last=True, pin_memory=True, num_workers=NUM_WORKERS)\n",
    "test_loader = DataLoader(test_dataset, batch_size=BATCH_SIZE,\n",
    "                         drop_last=True, pin_memory=True, num_workers=NUM_WORKERS)\n"
   ]
  },
  {
   "cell_type": "code",
   "execution_count": null,
   "metadata": {},
   "outputs": [],
   "source": [
    "facenet_model, facenet_results = train_model(\n",
    "    model_name=\"FaceNet\",\n",
    "    save_name = 'AugmentationAdd',\n",
    "    model_hparams={\"num_classes\": 2},\n",
    "    optimizer_name=\"Adam\",\n",
    "    optimizer_hparams={\"lr\": 0.0001},\n",
    "    checkpoint_path=CHECKPOINT_PATH,\n",
    "    device = device,\n",
    "    gpu_id=[1],\n",
    "    max_epochs= 1,\n",
    "    train_loader=train_loader,\n",
    "    valid_loader=valid_loader,\n",
    "    test_loader=test_loader,\n",
    "    seed=SEED,\n",
    ")\n"
   ]
  },
  {
   "cell_type": "code",
   "execution_count": null,
   "metadata": {},
   "outputs": [],
   "source": [
    "test_loader = DataLoader(test_dataset, batch_size=1, drop_last=True, pin_memory=True, num_workers=NUM_WORKERS)\n",
    "test_model = facenet_model\n",
    "test_model.eval().to(device)\n",
    "\n",
    "preds = []\n",
    "targets = []\n",
    "imgs = []\n",
    "\n",
    "for image, label in test_loader:\n",
    "    image = image[0][np.newaxis, ...].to(device)\n",
    "    predict = test_model(image).argmax(dim=-1)\n",
    "    # predict = model(image).to(device).cpu().numpy()\n",
    "    predict = predict.detach().cpu().numpy()\n",
    "    preds.append(predict.item())\n",
    "    imgs.append(image)\n",
    "    targets.append(label)\n",
    "\n",
    "\n",
    "print(f'f1_score:{f1_score([x.item() for x in targets], preds)}')\n",
    "print(f'precision:{precision_score([x.item() for x in targets], preds)}')\n",
    "print(f'recall:{recall_score([x.item() for x in targets], preds)}')"
   ]
  },
  {
   "cell_type": "code",
   "execution_count": null,
   "metadata": {},
   "outputs": [],
   "source": [
    "for x in test_model.parameters():\n",
    "    print(x)"
   ]
  },
  {
   "cell_type": "code",
   "execution_count": null,
   "metadata": {},
   "outputs": [],
   "source": []
  }
 ],
 "metadata": {
  "kernelspec": {
   "display_name": ".venv",
   "language": "python",
   "name": "python3"
  },
  "language_info": {
   "codemirror_mode": {
    "name": "ipython",
    "version": 3
   },
   "file_extension": ".py",
   "mimetype": "text/x-python",
   "name": "python",
   "nbconvert_exporter": "python",
   "pygments_lexer": "ipython3",
   "version": "3.10.6"
  },
  "orig_nbformat": 4,
  "vscode": {
   "interpreter": {
    "hash": "545a032a578a50448223b533123bade02a034bbb49598667ad0fc818870b887e"
   }
  }
 },
 "nbformat": 4,
 "nbformat_minor": 2
}
