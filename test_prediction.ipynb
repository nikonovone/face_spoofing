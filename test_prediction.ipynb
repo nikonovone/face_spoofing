{
 "cells": [
  {
   "cell_type": "code",
   "execution_count": null,
   "metadata": {},
   "outputs": [],
   "source": [
    "import argparse\n",
    "import os\n",
    "from pathlib import Path\n",
    "\n",
    "import albumentations as A\n",
    "import pandas as pd\n",
    "import pytorch_lightning as pl\n",
    "import torch\n",
    "from albumentations.pytorch import ToTensorV2\n",
    "from sklearn.model_selection import train_test_split\n",
    "from torch.utils.data import DataLoader\n",
    "\n",
    "from classes import CustomDataset\n",
    "from utils import *\n",
    "import ast"
   ]
  },
  {
   "cell_type": "code",
   "execution_count": null,
   "metadata": {},
   "outputs": [],
   "source": [
    "DATASET_PATHS = Path('test')\n",
    "NUM_WORKERS = int(os.cpu_count() / 2)\n",
    "SEED = 13\n"
   ]
  },
  {
   "cell_type": "code",
   "execution_count": null,
   "metadata": {},
   "outputs": [],
   "source": [
    "test_df = pd.read_csv(DATASET_PATHS / 'test.csv')\n",
    "test_data = []\n",
    "test_df"
   ]
  },
  {
   "cell_type": "code",
   "execution_count": null,
   "metadata": {},
   "outputs": [],
   "source": [
    "for x in test_df.itertuples():\n",
    "    test_data.append(x)\n",
    "print(f'Test total len: {len(test_data)}', sep='\\n')\n",
    "pl.seed_everything(SEED)\n",
    "torch.backends.cudnn.determinstic = True\n",
    "torch.backends.cudnn.benchmark = False\n",
    "device = torch.device(\n",
    "    \"cuda\") if torch.cuda.is_available() else torch.device(\"cpu\")\n"
   ]
  },
  {
   "cell_type": "code",
   "execution_count": null,
   "metadata": {},
   "outputs": [],
   "source": [
    "def load_eval_module(checkpoint_path: str, device: torch.device) -> FaceNet:\n",
    "    module = FaceNet.load_from_checkpoint(checkpoint_path)\n",
    "    module.to(device)\n",
    "    module.eval()\n",
    "\n",
    "    return module\n",
    "\n",
    "path = '/4tb/nikonov/face_spoofing/checkpoints/lightning_logs/version_13/checkpoints/epoch=5-step=396.ckpt'\n",
    "test_model = load_eval_module(path, device = 'cuda:0')"
   ]
  },
  {
   "cell_type": "code",
   "execution_count": null,
   "metadata": {},
   "outputs": [],
   "source": [
    "test_transform = A.Compose([\n",
    "    A.Resize(512, 512),\n",
    "    ToTensorV2(),\n",
    "])\n",
    "\n",
    "test_dataset = CustomDataset(test_data, test_transform)"
   ]
  },
  {
   "cell_type": "code",
   "execution_count": null,
   "metadata": {},
   "outputs": [],
   "source": [
    "fig, axes = plt.subplots(1, 3, figsize=(20, 10))\n",
    "plt.rcParams['axes.facecolor'] = 'white'\n",
    "k = 0\n",
    "for x in test_data:\n",
    "    img = cv2.cvtColor(cv2.imread(x.image), cv2.COLOR_BGR2RGB)\n",
    "    box = ast.literal_eval(x.box)\n",
    "    img_for_model = test_transform(image=img[box[1]:box[3], box[0]:box[2]])[\n",
    "        'image'].float()\n",
    "    img_for_model = (img_for_model[np.newaxis, ...]/255).to(device)\n",
    "    predict = test_model(img_for_model).argmax(dim=-1)\n",
    "    predict = predict.detach().cpu().numpy()\n",
    "    if predict == 0:\n",
    "        img = cv2.rectangle(img, (box[0], box[1]),\n",
    "                            (box[2], box[3]), (0, 255, 0), 5)\n",
    "    else:\n",
    "        img = cv2.rectangle(img, (box[0], box[1]), (box[2], box[3]), 255, 5)\n",
    "    # axes[k].axis('off')\n",
    "    axes[k].imshow(img)\n",
    "    x = img.shape[1]\n",
    "    y = img.shape[0]\n",
    "    axes[k].set_xlabel('no_spoof' if predict == 0 else 'spoof')\n",
    "    k += 1\n"
   ]
  }
 ],
 "metadata": {
  "kernelspec": {
   "display_name": ".venv",
   "language": "python",
   "name": "python3"
  },
  "language_info": {
   "codemirror_mode": {
    "name": "ipython",
    "version": 3
   },
   "file_extension": ".py",
   "mimetype": "text/x-python",
   "name": "python",
   "nbconvert_exporter": "python",
   "pygments_lexer": "ipython3",
   "version": "3.10.6 (main, Oct  7 2022, 20:19:58) [GCC 11.2.0]"
  },
  "orig_nbformat": 4,
  "vscode": {
   "interpreter": {
    "hash": "545a032a578a50448223b533123bade02a034bbb49598667ad0fc818870b887e"
   }
  }
 },
 "nbformat": 4,
 "nbformat_minor": 2
}
